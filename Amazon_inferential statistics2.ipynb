{
 "cells": [
  {
   "cell_type": "markdown",
   "metadata": {},
   "source": [
    "# Amazon Food Reviews Analysis : Inferential statistics \n"
   ]
  },
  {
   "cell_type": "code",
   "execution_count": 1,
   "metadata": {},
   "outputs": [
    {
     "data": {
      "image/png": "[encoded data removed]",
      "text/plain": [
       "<IPython.core.display.Image object>"
      ]
     },
     "execution_count": 1,
     "metadata": {},
     "output_type": "execute_result"
    }
   ],
   "source": [
    "from IPython.display import Image\n",
    "Image(filename='amazon.png')"
   ]
  },
  {
   "cell_type": "code",
   "execution_count": 2,
   "metadata": {
    "collapsed": true
   },
   "outputs": [],
   "source": [
    "%matplotlib inline\n",
    "import numpy as np \n",
    "import pandas as pd \n",
    "from pandas import Series, DataFrame, datetime\n",
    "from subprocess import check_output\n",
    "import string\n",
    "from scipy import stats\n",
    "import matplotlib.pyplot as plt\n",
    "import seaborn as sns\n",
    "\n",
    "# Setup Pandas\n",
    "pd.set_option('display.width', 500)\n",
    "pd.set_option('display.max_columns', 100)\n",
    "pd.set_option('display.notebook_repr_html', True)"
   ]
  },
  {
   "cell_type": "markdown",
   "metadata": {},
   "source": [
    "# 1. Inferential statistics"
   ]
  },
  {
   "cell_type": "code",
   "execution_count": 3,
   "metadata": {},
   "outputs": [
    {
     "data": {
      "text/plain": [
       "(568412, 20)"
      ]
     },
     "execution_count": 3,
     "metadata": {},
     "output_type": "execute_result"
    }
   ],
   "source": [
    "df = pd.read_csv('amazon_clean.csv',index_col=0)\n",
    "df.shape"
   ]
  },
  {
   "cell_type": "code",
   "execution_count": 28,
   "metadata": {},
   "outputs": [
    {
     "data": {
      "text/html": [
       "<div>\n",
       "<style>\n",
       "    .dataframe thead tr:only-child th {\n",
       "        text-align: right;\n",
       "    }\n",
       "\n",
       "    .dataframe thead th {\n",
       "        text-align: left;\n",
       "    }\n",
       "\n",
       "    .dataframe tbody tr th {\n",
       "        vertical-align: top;\n",
       "    }\n",
       "</style>\n",
       "<table border=\"1\" class=\"dataframe\">\n",
       "  <thead>\n",
       "    <tr style=\"text-align: right;\">\n",
       "      <th></th>\n",
       "      <th>ProductId</th>\n",
       "      <th>UserId</th>\n",
       "      <th>ProfileName</th>\n",
       "      <th>HelpfulnessNumerator</th>\n",
       "      <th>HelpfulnessDenominator</th>\n",
       "      <th>Score</th>\n",
       "      <th>Time</th>\n",
       "      <th>Summary</th>\n",
       "      <th>Text</th>\n",
       "      <th>date_time</th>\n",
       "      <th>date</th>\n",
       "      <th>date1</th>\n",
       "      <th>year</th>\n",
       "      <th>Helpful_pct</th>\n",
       "      <th>help1</th>\n",
       "      <th>chk</th>\n",
       "      <th>Summary1</th>\n",
       "      <th>text_Clean1</th>\n",
       "      <th>text_Clean2</th>\n",
       "      <th>word_cnt</th>\n",
       "      <th>Helpful</th>\n",
       "      <th>score_class</th>\n",
       "    </tr>\n",
       "    <tr>\n",
       "      <th>Id</th>\n",
       "      <th></th>\n",
       "      <th></th>\n",
       "      <th></th>\n",
       "      <th></th>\n",
       "      <th></th>\n",
       "      <th></th>\n",
       "      <th></th>\n",
       "      <th></th>\n",
       "      <th></th>\n",
       "      <th></th>\n",
       "      <th></th>\n",
       "      <th></th>\n",
       "      <th></th>\n",
       "      <th></th>\n",
       "      <th></th>\n",
       "      <th></th>\n",
       "      <th></th>\n",
       "      <th></th>\n",
       "      <th></th>\n",
       "      <th></th>\n",
       "      <th></th>\n",
       "      <th></th>\n",
       "    </tr>\n",
       "  </thead>\n",
       "  <tbody>\n",
       "    <tr>\n",
       "      <th>1</th>\n",
       "      <td>B001E4KFG0</td>\n",
       "      <td>A3SGXH7AUHU8GW</td>\n",
       "      <td>delmartian</td>\n",
       "      <td>1</td>\n",
       "      <td>1</td>\n",
       "      <td>5</td>\n",
       "      <td>1303862400</td>\n",
       "      <td>Good Quality Dog Food</td>\n",
       "      <td>I have bought several of the Vitality canned d...</td>\n",
       "      <td>2011-04-27</td>\n",
       "      <td>2011-04-27</td>\n",
       "      <td>2011-04-27</td>\n",
       "      <td>2011</td>\n",
       "      <td>1.0</td>\n",
       "      <td>75</td>\n",
       "      <td>False</td>\n",
       "      <td>good quality dog food</td>\n",
       "      <td>I have bought several of the Vitality canned d...</td>\n",
       "      <td>bought several vitality canned dog food produc...</td>\n",
       "      <td>48</td>\n",
       "      <td>1</td>\n",
       "      <td>1</td>\n",
       "    </tr>\n",
       "    <tr>\n",
       "      <th>2</th>\n",
       "      <td>B00813GRG4</td>\n",
       "      <td>A1D87F6ZCVE5NK</td>\n",
       "      <td>dll pa</td>\n",
       "      <td>0</td>\n",
       "      <td>0</td>\n",
       "      <td>1</td>\n",
       "      <td>1346976000</td>\n",
       "      <td>Not as Advertised</td>\n",
       "      <td>Product arrived labeled as Jumbo Salted Peanut...</td>\n",
       "      <td>2012-09-07</td>\n",
       "      <td>2012-09-07</td>\n",
       "      <td>2012-09-07</td>\n",
       "      <td>2012</td>\n",
       "      <td>0.0</td>\n",
       "      <td>0</td>\n",
       "      <td>False</td>\n",
       "      <td>advertised</td>\n",
       "      <td>Product arrived labeled as Jumbo Salted Peanut...</td>\n",
       "      <td>product arrived labeled jumbo salted peanut pe...</td>\n",
       "      <td>31</td>\n",
       "      <td>0</td>\n",
       "      <td>0</td>\n",
       "    </tr>\n",
       "    <tr>\n",
       "      <th>3</th>\n",
       "      <td>B000LQOCH0</td>\n",
       "      <td>ABXLMWJIXXAIN</td>\n",
       "      <td>Natalia Corres \"Natalia Corres\"</td>\n",
       "      <td>1</td>\n",
       "      <td>1</td>\n",
       "      <td>4</td>\n",
       "      <td>1219017600</td>\n",
       "      <td>\"Delight\" says it all</td>\n",
       "      <td>This is a confection that has been around a fe...</td>\n",
       "      <td>2008-08-18</td>\n",
       "      <td>2008-08-18</td>\n",
       "      <td>2008-08-18</td>\n",
       "      <td>2008</td>\n",
       "      <td>1.0</td>\n",
       "      <td>75</td>\n",
       "      <td>False</td>\n",
       "      <td>\"delight\" says</td>\n",
       "      <td>This is a confection that has been around a fe...</td>\n",
       "      <td>confection around century light pillowy citrus...</td>\n",
       "      <td>94</td>\n",
       "      <td>1</td>\n",
       "      <td>1</td>\n",
       "    </tr>\n",
       "  </tbody>\n",
       "</table>\n",
       "</div>"
      ],
      "text/plain": [
       "     ProductId          UserId                      ProfileName  HelpfulnessNumerator  HelpfulnessDenominator  Score        Time                Summary                                               Text   date_time        date       date1  year  Helpful_pct  help1    chk               Summary1                                        text_Clean1                                        text_Clean2  word_cnt  Helpful  score_class\n",
       "Id                                                                                                                                                                                                                                                                                                                                                                                                                                          \n",
       "1   B001E4KFG0  A3SGXH7AUHU8GW                       delmartian                     1                       1      5  1303862400  Good Quality Dog Food  I have bought several of the Vitality canned d...  2011-04-27  2011-04-27  2011-04-27  2011          1.0     75  False  good quality dog food  I have bought several of the Vitality canned d...  bought several vitality canned dog food produc...        48        1            1\n",
       "2   B00813GRG4  A1D87F6ZCVE5NK                           dll pa                     0                       0      1  1346976000      Not as Advertised  Product arrived labeled as Jumbo Salted Peanut...  2012-09-07  2012-09-07  2012-09-07  2012          0.0      0  False             advertised  Product arrived labeled as Jumbo Salted Peanut...  product arrived labeled jumbo salted peanut pe...        31        0            0\n",
       "3   B000LQOCH0   ABXLMWJIXXAIN  Natalia Corres \"Natalia Corres\"                     1                       1      4  1219017600  \"Delight\" says it all  This is a confection that has been around a fe...  2008-08-18  2008-08-18  2008-08-18  2008          1.0     75  False         \"delight\" says  This is a confection that has been around a fe...  confection around century light pillowy citrus...        94        1            1"
      ]
     },
     "execution_count": 28,
     "metadata": {},
     "output_type": "execute_result"
    }
   ],
   "source": [
    "df.loc[:, 'score_class'] = np.where(df.loc[:, 'Score'] > 3, 1, 0)\n",
    "df.head(3)"
   ]
  },
  {
   "cell_type": "markdown",
   "metadata": {},
   "source": [
    "#### Here I label the training data as 'helpful' = 1, or 'not-helpful' = 0. The threshold is arbitrarily set to 0.7 becuase higher value can filter the help and non-helpful reviews better."
   ]
  },
  {
   "cell_type": "code",
   "execution_count": 8,
   "metadata": {},
   "outputs": [
    {
     "data": {
      "text/html": [
       "<div>\n",
       "<style>\n",
       "    .dataframe thead tr:only-child th {\n",
       "        text-align: right;\n",
       "    }\n",
       "\n",
       "    .dataframe thead th {\n",
       "        text-align: left;\n",
       "    }\n",
       "\n",
       "    .dataframe tbody tr th {\n",
       "        vertical-align: top;\n",
       "    }\n",
       "</style>\n",
       "<table border=\"1\" class=\"dataframe\">\n",
       "  <thead>\n",
       "    <tr style=\"text-align: right;\">\n",
       "      <th></th>\n",
       "      <th>ProductId</th>\n",
       "      <th>UserId</th>\n",
       "      <th>ProfileName</th>\n",
       "      <th>HelpfulnessNumerator</th>\n",
       "      <th>HelpfulnessDenominator</th>\n",
       "      <th>Score</th>\n",
       "      <th>Time</th>\n",
       "      <th>Summary</th>\n",
       "      <th>Text</th>\n",
       "      <th>date_time</th>\n",
       "      <th>date</th>\n",
       "      <th>date1</th>\n",
       "      <th>year</th>\n",
       "      <th>Helpful_pct</th>\n",
       "      <th>help1</th>\n",
       "      <th>chk</th>\n",
       "      <th>Summary1</th>\n",
       "      <th>text_Clean1</th>\n",
       "      <th>text_Clean2</th>\n",
       "      <th>word_cnt</th>\n",
       "      <th>Helpful</th>\n",
       "    </tr>\n",
       "    <tr>\n",
       "      <th>Id</th>\n",
       "      <th></th>\n",
       "      <th></th>\n",
       "      <th></th>\n",
       "      <th></th>\n",
       "      <th></th>\n",
       "      <th></th>\n",
       "      <th></th>\n",
       "      <th></th>\n",
       "      <th></th>\n",
       "      <th></th>\n",
       "      <th></th>\n",
       "      <th></th>\n",
       "      <th></th>\n",
       "      <th></th>\n",
       "      <th></th>\n",
       "      <th></th>\n",
       "      <th></th>\n",
       "      <th></th>\n",
       "      <th></th>\n",
       "      <th></th>\n",
       "      <th></th>\n",
       "    </tr>\n",
       "  </thead>\n",
       "  <tbody>\n",
       "    <tr>\n",
       "      <th>1</th>\n",
       "      <td>B001E4KFG0</td>\n",
       "      <td>A3SGXH7AUHU8GW</td>\n",
       "      <td>delmartian</td>\n",
       "      <td>1</td>\n",
       "      <td>1</td>\n",
       "      <td>5</td>\n",
       "      <td>1303862400</td>\n",
       "      <td>Good Quality Dog Food</td>\n",
       "      <td>I have bought several of the Vitality canned d...</td>\n",
       "      <td>2011-04-27</td>\n",
       "      <td>2011-04-27</td>\n",
       "      <td>2011-04-27</td>\n",
       "      <td>2011</td>\n",
       "      <td>1.0</td>\n",
       "      <td>75</td>\n",
       "      <td>False</td>\n",
       "      <td>good quality dog food</td>\n",
       "      <td>I have bought several of the Vitality canned d...</td>\n",
       "      <td>bought several vitality canned dog food produc...</td>\n",
       "      <td>48</td>\n",
       "      <td>1</td>\n",
       "    </tr>\n",
       "    <tr>\n",
       "      <th>2</th>\n",
       "      <td>B00813GRG4</td>\n",
       "      <td>A1D87F6ZCVE5NK</td>\n",
       "      <td>dll pa</td>\n",
       "      <td>0</td>\n",
       "      <td>0</td>\n",
       "      <td>1</td>\n",
       "      <td>1346976000</td>\n",
       "      <td>Not as Advertised</td>\n",
       "      <td>Product arrived labeled as Jumbo Salted Peanut...</td>\n",
       "      <td>2012-09-07</td>\n",
       "      <td>2012-09-07</td>\n",
       "      <td>2012-09-07</td>\n",
       "      <td>2012</td>\n",
       "      <td>0.0</td>\n",
       "      <td>0</td>\n",
       "      <td>False</td>\n",
       "      <td>advertised</td>\n",
       "      <td>Product arrived labeled as Jumbo Salted Peanut...</td>\n",
       "      <td>product arrived labeled jumbo salted peanut pe...</td>\n",
       "      <td>31</td>\n",
       "      <td>0</td>\n",
       "    </tr>\n",
       "  </tbody>\n",
       "</table>\n",
       "</div>"
      ],
      "text/plain": [
       "     ProductId          UserId ProfileName  HelpfulnessNumerator  HelpfulnessDenominator  Score        Time                Summary                                               Text   date_time        date       date1  year  Helpful_pct  help1    chk               Summary1                                        text_Clean1                                        text_Clean2  word_cnt  Helpful\n",
       "Id                                                                                                                                                                                                                                                                                                                                                                                                        \n",
       "1   B001E4KFG0  A3SGXH7AUHU8GW  delmartian                     1                       1      5  1303862400  Good Quality Dog Food  I have bought several of the Vitality canned d...  2011-04-27  2011-04-27  2011-04-27  2011          1.0     75  False  good quality dog food  I have bought several of the Vitality canned d...  bought several vitality canned dog food produc...        48        1\n",
       "2   B00813GRG4  A1D87F6ZCVE5NK      dll pa                     0                       0      1  1346976000      Not as Advertised  Product arrived labeled as Jumbo Salted Peanut...  2012-09-07  2012-09-07  2012-09-07  2012          0.0      0  False             advertised  Product arrived labeled as Jumbo Salted Peanut...  product arrived labeled jumbo salted peanut pe...        31        0"
      ]
     },
     "execution_count": 8,
     "metadata": {},
     "output_type": "execute_result"
    }
   ],
   "source": [
    "#set up target variable -transform Helpfulness into a binary variable\n",
    "threshold = 0.7\n",
    "df.loc[:, 'Helpful'] = np.where(df.loc[:, 'HelpfulnessNumerator'] \\\n",
    "                                 / df.loc[:, 'HelpfulnessDenominator'] > threshold, 1, 0)\n",
    "df.head(2)"
   ]
  },
  {
   "cell_type": "code",
   "execution_count": 9,
   "metadata": {
    "scrolled": true
   },
   "outputs": [
    {
     "data": {
      "image/png": "[encoded data removed]",
      "text/plain": [
       "<matplotlib.figure.Figure at 0x10737ccf8>"
      ]
     },
     "metadata": {},
     "output_type": "display_data"
    }
   ],
   "source": [
    "#Visualize correlation of the data\n",
    "plt.figure(figsize=(10,6))\n",
    "corr1=df[['Score','HelpfulnessNumerator','HelpfulnessDenominator','Helpful_pct','word_cnt','Helpful']]\n",
    "correlations = corr1.corr()\n",
    "plt.title(\"Heatmap of correlations in each catagory\")\n",
    "_ = sns.heatmap(correlations, vmin=0, vmax=1, cmap='Oranges_r',annot=True)"
   ]
  },
  {
   "cell_type": "markdown",
   "metadata": {},
   "source": [
    "## Hypothesis 1:\n",
    "$H_{0}$: $\\rho$ $\\neq$=0  there is no relationship between between Helpfulness  and word count? <br>\n",
    "$H_{a}$: $\\rho$>0 there is positive relationship between Helpfulness and word count"
   ]
  },
  {
   "cell_type": "code",
   "execution_count": 12,
   "metadata": {},
   "outputs": [
    {
     "data": {
      "text/plain": [
       "(0.1125766523403133, 0.0)"
      ]
     },
     "execution_count": 12,
     "metadata": {},
     "output_type": "execute_result"
    }
   ],
   "source": [
    "from scipy import stats\n",
    "p=stats.pearsonr(df['word_cnt'], df['Helpful'])\n",
    "p"
   ]
  },
  {
   "cell_type": "markdown",
   "metadata": {},
   "source": [
    "#### P-value is very small — smaller than 0.05, we can reject the null hypothesis in favor alternation hypothesis. We cna conclude that  review with more words are more helpful."
   ]
  },
  {
   "cell_type": "markdown",
   "metadata": {},
   "source": [
    "## Hypothesis 2 : \n",
    "$H_{0}$: Score ranking has no impact on review's helfulness<br>\n",
    "$H_{a}$: Score ranking does impact on review's helfulness"
   ]
  },
  {
   "cell_type": "code",
   "execution_count": 14,
   "metadata": {},
   "outputs": [
    {
     "data": {
      "text/plain": [
       "210869"
      ]
     },
     "execution_count": 14,
     "metadata": {},
     "output_type": "execute_result"
    }
   ],
   "source": [
    "hp2=df[['Score','Helpful']].copy()\n",
    "helpful_df= hp2[hp2.Helpful==1]\n",
    "non_helpful_df= hp2[hp2.Helpful==0]\n",
    "len(helpful_df)"
   ]
  },
  {
   "cell_type": "code",
   "execution_count": 13,
   "metadata": {
    "collapsed": true
   },
   "outputs": [],
   "source": [
    "def calculate_percentage(val, total, format_percent = False):\n",
    "    \"\"\"Calculates the percentage of a value over a total\"\"\"\n",
    "    percent = np.divide(val, total, dtype=float)\n",
    "    if format_percent:\n",
    "        percent = as_percent(percent)\n",
    "    return percent"
   ]
  },
  {
   "cell_type": "code",
   "execution_count": 34,
   "metadata": {},
   "outputs": [
    {
     "data": {
      "image/png": "[encoded data removed]",
      "text/plain": [
       "<matplotlib.figure.Figure at 0x1b9b4c0f60>"
      ]
     },
     "metadata": {},
     "output_type": "display_data"
    }
   ],
   "source": [
    "# calculate values for each survival status\n",
    "helpful_group = helpful_df.groupby(['Score']).size().values\n",
    "nonhelpful_group = non_helpful_df.groupby(['Score']).size().values\n",
    "\n",
    "# calculate totals for percentates\n",
    "totals = helpful_group + nonhelpful_group\n",
    "\n",
    "# use calculate_percentage_function to calculate percentage of the total\n",
    "bag1_percent = calculate_percentage(helpful_group, totals)*100 \n",
    "bag2_percent= calculate_percentage(nonhelpful_group, totals)*100 \n",
    "\n",
    "score_label = ['Score1', 'Score2', 'Score3', 'Score4', 'Score5']\n",
    "\n",
    "f, (ax1, ax2) = plt.subplots(1, 2, figsize=(14,6))\n",
    "# plot chart for count of helpful by Score\n",
    "ax1.bar(range(len(helpful_group )), helpful_group , label='Helpful', alpha=0.5, color='orangered')\n",
    "ax1.bar(range(len(nonhelpful_group)), nonhelpful_group, bottom=helpful_group, label='Non-Helpful', alpha=0.5, color='brown')\n",
    "plt.sca(ax1)\n",
    "plt.xticks([0.1, 1, 2, 3, 4], score_label)\n",
    "ax1.set_ylabel(\"Count\")\n",
    "ax1.set_xlabel(\"\")\n",
    "ax1.set_title(\"Count of helpful by score\",fontsize=14)\n",
    "plt.legend(loc='upper left')\n",
    "\n",
    "# plot chart for percentage of shelpful by Score\n",
    "ax2.bar(range(len(bag1_percent)), bag1_percent, alpha=0.5, color='orangered')\n",
    "ax2.bar(range(len(bag2_percent)), bag2_percent, bottom=bag1_percent, alpha=0.5, color='brown')\n",
    "plt.sca(ax2)\n",
    "plt.xticks([0.1, 1, 2, 3, 4 ], score_label)\n",
    "ax2.set_ylabel(\"Percentage\")\n",
    "ax2.set_xlabel(\"\")\n",
    "ax2.set_title(\"% of helpful by score\",fontsize=14)\n",
    "plt.show()"
   ]
  },
  {
   "cell_type": "code",
   "execution_count": 22,
   "metadata": {},
   "outputs": [
    {
     "name": "stdout",
     "output_type": "stream",
     "text": [
      "[['Chi-Square Test', 5536.0706076460465], ['P-Value', 0.0]]\n"
     ]
    }
   ],
   "source": [
    "table = pd.crosstab([hp2['Helpful']], hp2['Score'])\n",
    "chi2, p, dof, expected = stats.chi2_contingency(table.values)\n",
    "results = [\n",
    "    ['Chi-Square Test',chi2],\n",
    "    ['P-Value', p]\n",
    "]\n",
    "print(results)"
   ]
  },
  {
   "cell_type": "markdown",
   "metadata": {},
   "source": [
    "|Item | Value|\n",
    "|------|------|\n",
    "| Chi-Square Test | 5536.0706076460465|\n",
    "| P-Value | 0.0|"
   ]
  },
  {
   "cell_type": "markdown",
   "metadata": {
    "collapsed": true
   },
   "source": [
    "#### As the P-Value is less than 0.05, we reject the null hypothesis and conclude that Score rating will impact the reviews' helpfulness. "
   ]
  },
  {
   "cell_type": "markdown",
   "metadata": {},
   "source": [
    "## Hypothesis 3:\n",
    "$H_{0}$: $\\rho$ $\\neq$=0  there is no relationship between between Helpfulness  and postive score? <br>\n",
    "$H_{a}$: $\\rho$>0 there is positive relationship between Helpfulness and  score"
   ]
  },
  {
   "cell_type": "code",
   "execution_count": 29,
   "metadata": {},
   "outputs": [
    {
     "data": {
      "text/plain": [
       "(-0.070471191564948493, 0.0)"
      ]
     },
     "execution_count": 29,
     "metadata": {},
     "output_type": "execute_result"
    }
   ],
   "source": [
    "d=stats.pearsonr(df['word_cnt'], df['score_class'])\n",
    "d"
   ]
  },
  {
   "cell_type": "code",
   "execution_count": null,
   "metadata": {
    "collapsed": true
   },
   "outputs": [],
   "source": [
    "df.plot(x='Score', y='word_cnt', kind='bar')"
   ]
  }
 ],
 "metadata": {
  "kernelspec": {
   "display_name": "Python 3",
   "language": "python",
   "name": "python3"
  },
  "language_info": {
   "codemirror_mode": {
    "name": "ipython",
    "version": 3
   },
   "file_extension": ".py",
   "mimetype": "text/x-python",
   "name": "python",
   "nbconvert_exporter": "python",
   "pygments_lexer": "ipython3",
   "version": "3.6.3"
  }
 },
 "nbformat": 4,
 "nbformat_minor": 2
}
