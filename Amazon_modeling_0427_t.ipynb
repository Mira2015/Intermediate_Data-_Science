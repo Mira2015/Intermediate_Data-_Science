{
 "cells": [
  {
   "cell_type": "markdown",
   "metadata": {},
   "source": [
    "# Modeling"
   ]
  },
  {
   "cell_type": "markdown",
   "metadata": {},
   "source": [
    "## Data Preprocesses\n",
    " 1.Binary encoding to \"1\" helpful, \"0\" helpfulness\n",
    "  <br>2.Split files into training and testing sets 70% , 30%\n",
    "  <br>3.Creat Sample pipeline for text feature extraction and evaluation\n",
    "  <br>4.Investigate different algorithms: Naive Bayes, Logistic Regression, Random Forest and Ada-boost classifier.  Use a grid search with cross validation to optimize on the hyperparameters of each algorithm.\n",
    "  <br>5.k-fold cross-validation strategy all classficaiton algorthms to fully leaverge the entire training set.\n",
    "No validation data require "
   ]
  },
  {
   "cell_type": "code",
   "execution_count": 32,
   "metadata": {
    "collapsed": true
   },
   "outputs": [],
   "source": [
    "%matplotlib inline\n",
    "import numpy as np \n",
    "import pandas as pd \n",
    "from pandas import Series, DataFrame, datetime\n",
    "from datetime import datetime, timedelta, time\n",
    "from sklearn.model_selection import train_test_split\n",
    "import nltk\n",
    "import string\n",
    "import matplotlib.pyplot as plt\n",
    "RAN_STATE = 42"
   ]
  },
  {
   "cell_type": "code",
   "execution_count": 33,
   "metadata": {},
   "outputs": [
    {
     "data": {
      "text/plain": [
       "(568412, 21)"
      ]
     },
     "execution_count": 33,
     "metadata": {},
     "output_type": "execute_result"
    }
   ],
   "source": [
    "df = pd.read_csv('amazon_clean.csv')\n",
    "df.shape"
   ]
  },
  {
   "cell_type": "code",
   "execution_count": 133,
   "metadata": {},
   "outputs": [
    {
     "data": {
      "text/plain": [
       "(56059, 21)"
      ]
     },
     "execution_count": 133,
     "metadata": {},
     "output_type": "execute_result"
    }
   ],
   "source": [
    "##include reviews that have more than 5 helpfulness data point only\n",
    "final_df= df[(df.HelpfulnessDenominator >= 5) & (df.year>=2008)]\n",
    "final_df.shape"
   ]
  },
  {
   "cell_type": "code",
   "execution_count": 134,
   "metadata": {},
   "outputs": [
    {
     "data": {
      "text/plain": [
       "(56059, 2)"
      ]
     },
     "execution_count": 134,
     "metadata": {},
     "output_type": "execute_result"
    }
   ],
   "source": [
    "# for model# \n",
    "df_model=final_df[['Helpful','text_Clean2']]\n",
    "df_model.shape"
   ]
  },
  {
   "cell_type": "code",
   "execution_count": 135,
   "metadata": {},
   "outputs": [
    {
     "data": {
      "text/plain": [
       "1    0.675467\n",
       "0    0.324533\n",
       "Name: Helpful, dtype: float64"
      ]
     },
     "execution_count": 135,
     "metadata": {},
     "output_type": "execute_result"
    }
   ],
   "source": [
    "df_model['Helpful'].value_counts()/len(df_model)"
   ]
  },
  {
   "cell_type": "code",
   "execution_count": 136,
   "metadata": {},
   "outputs": [
    {
     "name": "stdout",
     "output_type": "stream",
     "text": [
      "X_train shape: (39241,)\n",
      "y_train shape: (39241,)\n",
      "X_test shape: (16818,)\n",
      "y_test shape: (16818,)\n"
     ]
    }
   ],
   "source": [
    "# create X, y for upsampled training and testing\n",
    "X_train, X_test, y_train, y_test= train_test_split(df_model['text_Clean2'],\n",
    "                                                   df_model['Helpful'], \n",
    "                                                   test_size=0.3, \n",
    "                                                   random_state=RAN_STATE)\n",
    "print(\"X_train shape: {}\".format(X_train.shape))\n",
    "print(\"y_train shape: {}\".format(y_train.shape))\n",
    "print(\"X_test shape: {}\".format(X_test.shape))\n",
    "print(\"y_test shape: {}\".format(y_test.shape))"
   ]
  },
  {
   "cell_type": "markdown",
   "metadata": {},
   "source": [
    "#### Total 67,422  data point for modeling "
   ]
  },
  {
   "cell_type": "markdown",
   "metadata": {},
   "source": [
    "### Train model"
   ]
  },
  {
   "cell_type": "code",
   "execution_count": 137,
   "metadata": {
    "collapsed": true
   },
   "outputs": [],
   "source": [
    "from sklearn.feature_extraction.text import CountVectorizer, TfidfTransformer\n",
    "from sklearn.feature_extraction.text import TfidfVectorizer\n",
    "from sklearn.pipeline import Pipeline\n",
    "from sklearn.utils import shuffle\n",
    "from sklearn.svm import LinearSVC\n",
    "from sklearn import metrics\n",
    "from sklearn.metrics import classification_report\n",
    "from sklearn.model_selection import train_test_split\n",
    "from sklearn.metrics import make_scorer\n",
    "from sklearn.metrics import accuracy_score, precision_score, recall_score\n",
    "from sklearn.metrics import roc_auc_score\n",
    "from sklearn.naive_bayes import GaussianNB\n",
    "from sklearn.linear_model import LogisticRegression\n",
    "from sklearn.ensemble import RandomForestClassifier\n",
    "from sklearn.ensemble import AdaBoostClassifier\n",
    "from sklearn.tree import DecisionTreeClassifier\n",
    "from sklearn.model_selection import GridSearchCV\n",
    "from sklearn.externals import joblib"
   ]
  },
  {
   "cell_type": "markdown",
   "metadata": {},
   "source": [
    "### Baseline model :Naive Bayes "
   ]
  },
  {
   "cell_type": "code",
   "execution_count": 138,
   "metadata": {},
   "outputs": [
    {
     "name": "stdout",
     "output_type": "stream",
     "text": [
      "X_train shape: (39241, 2)\n",
      "y_train shape: (16818, 2)\n"
     ]
    }
   ],
   "source": [
    "training_b, testing_b = train_test_split(df_model, test_size=0.3, random_state=RAN_STATE)\n",
    "print(\"X_train shape: {}\".format(training_b.shape))\n",
    "print(\"y_train shape: {}\".format(testing_b.shape))"
   ]
  },
  {
   "cell_type": "code",
   "execution_count": 139,
   "metadata": {
    "collapsed": true
   },
   "outputs": [],
   "source": [
    "count_vect = CountVectorizer(min_df = 0.01, ngram_range = (1, 1))\n",
    "X_train_counts = count_vect.fit_transform(training_b['text_Clean2'])\n",
    "\n",
    "tfidf_transformer = TfidfTransformer()\n",
    "X_train_tfidf = tfidf_transformer.fit_transform(X_train_counts)\n",
    "\n",
    "X_new_counts = count_vect.transform(testing_b['text_Clean2'])\n",
    "X_test_tfidf = tfidf_transformer.transform(X_new_counts)\n",
    "\n",
    "y_train_b = training_b[\"Helpful\"]\n",
    "y_test_b = testing_b[\"Helpful\"]\n",
    "\n",
    "prediction = dict()\n",
    "\n",
    "x_tr = X_train_tfidf.toarray()\n",
    "x_te = X_test_tfidf.toarray()"
   ]
  },
  {
   "cell_type": "code",
   "execution_count": 140,
   "metadata": {},
   "outputs": [
    {
     "name": "stdout",
     "output_type": "stream",
     "text": [
      "Gaussian Naive Bayes\n",
      "Accuracy on the training set: 0.699854743762901\n",
      "Accuracy on the test set: 0.6900939469615888\n"
     ]
    }
   ],
   "source": [
    "model_GNB = GaussianNB()\n",
    "model_GNB.fit(x_tr,y_train_b)\n",
    "train_accuracy = model_GNB.score(x_tr, y_train_b)\n",
    "test_accuracy = model_GNB.score(x_te, y_test_b)\n",
    "print('Gaussian Naive Bayes')\n",
    "print('Accuracy on the training set: {}'.format(train_accuracy))\n",
    "print('Accuracy on the test set: {}'.format(test_accuracy))"
   ]
  },
  {
   "cell_type": "code",
   "execution_count": 141,
   "metadata": {},
   "outputs": [
    {
     "data": {
      "text/plain": [
       "['GNB_clf_est.pkl']"
      ]
     },
     "execution_count": 141,
     "metadata": {},
     "output_type": "execute_result"
    }
   ],
   "source": [
    "joblib.dump(model_GNB,'GNB_clf_est.pkl')"
   ]
  },
  {
   "cell_type": "markdown",
   "metadata": {},
   "source": [
    " + max_features = n : only considers the top n words orderd by term frequency\n",
    " + min_df = n : ignores words with a document frequency below n\n",
    " + max_df = n : ignores words with a document frequency above n\n",
    " + TF*IDF = Term Frequency * Inverse Document Frequency<Br>\n",
    " + stop_words =  ignores common words like  'the' ,  'that' ,  'which' , etc. You’ll need to define in a list what words you want to include. There are lists of common stop words available online, the NLTK library also has a list of stop words built into it.\n"
   ]
  },
  {
   "cell_type": "markdown",
   "metadata": {},
   "source": [
    "## Sample pipeline for text feature extraction "
   ]
  },
  {
   "cell_type": "code",
   "execution_count": 143,
   "metadata": {
    "collapsed": true
   },
   "outputs": [],
   "source": [
    "from sklearn.model_selection import StratifiedKFold\n",
    "n_jobs=-1\n",
    "n_folds=5\n",
    "skfold = StratifiedKFold(n_splits=n_folds,random_state=RAN_STATE, shuffle=False)"
   ]
  },
  {
   "cell_type": "code",
   "execution_count": 144,
   "metadata": {},
   "outputs": [
    {
     "name": "stdout",
     "output_type": "stream",
     "text": [
      "Performing model optimizations...\n",
      "\n",
      "Estimator: Logistic Regression\n",
      "Best params: {'clf__C': 10.0, 'vect__max_df': 0.5, 'vect__ngram_range': (1, 2)}\n",
      "Best training accuracy: 0.83\n",
      "Test set accuracy score for best params: 0.84 \n",
      "\n",
      "Estimator: Linear Support Vector Machine \n",
      "Best params: {'clf__C': 10.0, 'vect__max_df': 0.5, 'vect__ngram_range': (1, 3)}\n",
      "Best training accuracy: 0.83\n",
      "Test set accuracy score for best params: 0.84 \n",
      "\n",
      "Estimator: Decision Tree\n",
      "Best params: {'clf__max_depth': 5, 'vect__max_df': 0.5, 'vect__ngram_range': (1, 2)}\n",
      "Best training accuracy: 0.68\n",
      "Test set accuracy score for best params: 0.68 \n",
      "\n",
      "Estimator: Random Forest\n",
      "Best params: {'clf__max_depth': 5, 'clf__n_estimators': 500, 'vect__max_df': 0.5, 'vect__ngram_range': (1, 3)}\n",
      "Best training accuracy: 0.68\n",
      "Test set accuracy score for best params: 0.67 \n",
      "\n",
      "Estimator: AdaBoostClassifier\n",
      "Best params: {'clf__n_estimators': 500, 'vect__max_df': 0.5, 'vect__ngram_range': (1, 2)}\n",
      "Best training accuracy: 0.76\n",
      "Test set accuracy score for best params: 0.77 \n"
     ]
    }
   ],
   "source": [
    "#construct pipeline\n",
    "pipeline1 = Pipeline([\n",
    "    ('vect', CountVectorizer(stop_words = 'english')),\n",
    "    ('tfidf', TfidfTransformer()),   \n",
    "    ('clf', LogisticRegression(random_state=RAN_STATE))\n",
    "                         ])\n",
    "pipeline2 = Pipeline([\n",
    "    ('vect', CountVectorizer(stop_words = 'english')),\n",
    "    ('tfidf', TfidfTransformer()),   \n",
    "    ('clf', LinearSVC(random_state=RAN_STATE))\n",
    "                        ])\n",
    "pipeline3 = Pipeline([\n",
    "    ('vect', CountVectorizer(stop_words = 'english')),\n",
    "    ('tfidf', TfidfTransformer()),   \n",
    "    ('clf', DecisionTreeClassifier(random_state=42))\n",
    "                        ])\n",
    "pipeline4 = Pipeline([\n",
    "    ('vect', CountVectorizer(stop_words = 'english')),\n",
    "    ('tfidf', TfidfTransformer()),   \n",
    "    ('clf', RandomForestClassifier(random_state=RAN_STATE))\n",
    "                        ])\n",
    "pipeline5= Pipeline([\n",
    "    ('vect', CountVectorizer(stop_words = 'english')),\n",
    "    ('tfidf', TfidfTransformer()),   \n",
    "    ('clf',  AdaBoostClassifier(random_state=RAN_STATE))\n",
    "                        ])\n",
    "\n",
    "# tune parameter \n",
    "parameters1 = {'vect__ngram_range': [(1, 1),(1, 2),(1, 3)], #unigram, bigram, trigram\n",
    "                   'vect__max_df': (0.25, 0.5, 0.75),\n",
    "                   'clf__C': (np.logspace(-5, 1, 5))}\n",
    "\n",
    "parameters2 = {'vect__ngram_range': [(1, 1), (1, 2),(1, 3)],\n",
    "                   'vect__max_df': (0.25, 0.5, 0.75),  \n",
    "                   'clf__C': (np.logspace(-5, 1, 5))}\n",
    "\n",
    "parameters3 = {'vect__ngram_range': [(1, 1), (1, 2),(1, 3)],\n",
    "                   'vect__max_df': (0.25, 0.5, 0.75),\n",
    "                   'clf__max_depth': (3, 4, 5)}\n",
    "    \n",
    "parameters4 = {'vect__ngram_range': [(1, 1), (1, 2),(1, 3)],\n",
    "                   'vect__max_df': (0.25, 0.5, 0.75),\n",
    "                   'clf__n_estimators': [300, 500],\n",
    "                   'clf__max_depth': (3, 4, 5)}\n",
    "    \n",
    "parameters5 = {'vect__ngram_range': [(1, 1), (1, 2),(1, 3)],\n",
    "                   'vect__max_df': (0.25, 0.5, 0.75),\n",
    "                   'clf__n_estimators': [300, 500]}    \n",
    "    \n",
    "#  gridsearch for each classfier \n",
    "gs_lr = GridSearchCV(estimator=pipeline1,\n",
    "                     param_grid=parameters1,\n",
    "                     n_jobs=-1,\n",
    "                     scoring = 'accuracy', \n",
    "                     cv = skfold)\n",
    "\n",
    "gs_SVC = GridSearchCV(estimator=pipeline2,\n",
    "                     param_grid=parameters2,\n",
    "                     n_jobs=-1,\n",
    "                     scoring = 'accuracy', \n",
    "                     cv = skfold)\n",
    "\n",
    "gs_DS = GridSearchCV(estimator=pipeline3,\n",
    "                     param_grid=parameters3,\n",
    "                     n_jobs=-1,\n",
    "                     scoring = 'accuracy', \n",
    "                     cv = skfold)\n",
    "\n",
    "gs_RF = GridSearchCV(estimator=pipeline4,\n",
    "                     param_grid=parameters4,\n",
    "                     n_jobs=-1,\n",
    "                     scoring = 'accuracy', \n",
    "                     cv = skfold)\n",
    "\n",
    "gs_Adb = GridSearchCV(estimator=pipeline5,\n",
    "                     param_grid=parameters5,\n",
    "                     n_jobs=-1,\n",
    "                     scoring = 'accuracy', \n",
    "                     cv = skfold)\n",
    "\n",
    "# List of pipelines for ease of iteration\n",
    "grids = [gs_lr, gs_SVC, gs_DS, gs_RF, gs_Adb]\n",
    "\n",
    "# Dictionary of pipelines and classifier types for ease of reference\n",
    "grid_dict = {0: 'Logistic Regression', \n",
    "             1: 'Linear Support Vector Machine ', \n",
    "             2: 'Decision Tree', \n",
    "             3: 'Random Forest', \n",
    "             4: 'AdaBoostClassifier'}\n",
    "\n",
    "# Fit the grid search objects\n",
    "print('Performing model optimizations...')\n",
    "for idx, gs in enumerate(grids):\n",
    "    print('\\nEstimator: %s' % grid_dict[idx])\n",
    "    gs.fit(X_train, y_train)\n",
    "\n",
    "# Best params\n",
    "    print('Best params: %s' % gs.best_params_)\n",
    "# Best training data accuracy\n",
    "    print('Best training accuracy: %.2f' % gs.best_score_)\n",
    "# Predict on test data with best params\n",
    "    y_pred = gs.predict(X_test)\n",
    "\n",
    "# Test data accuracy of model with best params\n",
    "    print('Test set accuracy score for best params: %.2f ' % accuracy_score(y_test, y_pred))"
   ]
  },
  {
   "cell_type": "code",
   "execution_count": 145,
   "metadata": {},
   "outputs": [
    {
     "data": {
      "text/plain": [
       "['logsitc_clf.pkl']"
      ]
     },
     "execution_count": 145,
     "metadata": {},
     "output_type": "execute_result"
    }
   ],
   "source": [
    "gs_lr.fit(X_train,y_train)         \n",
    "joblib.dump(gs_lr, 'logsitc_clf.pkl') "
   ]
  },
  {
   "cell_type": "code",
   "execution_count": 146,
   "metadata": {},
   "outputs": [
    {
     "data": {
      "text/plain": [
       "['SVM_clf.pkl']"
      ]
     },
     "execution_count": 146,
     "metadata": {},
     "output_type": "execute_result"
    }
   ],
   "source": [
    "gs_SVC.fit(X_train,y_train)\n",
    "joblib.dump(gs_SVC, 'SVM_clf.pkl')"
   ]
  },
  {
   "cell_type": "code",
   "execution_count": 147,
   "metadata": {},
   "outputs": [
    {
     "data": {
      "text/plain": [
       "['rf_clf.pkl']"
      ]
     },
     "execution_count": 147,
     "metadata": {},
     "output_type": "execute_result"
    }
   ],
   "source": [
    "gs_RF.fit(X_train,y_train)\n",
    "joblib.dump(gs_RF, 'rf_clf.pkl')"
   ]
  },
  {
   "cell_type": "code",
   "execution_count": null,
   "metadata": {},
   "outputs": [
    {
     "data": {
      "text/plain": [
       "['ds_clf.pkl']"
      ]
     },
     "execution_count": 148,
     "metadata": {},
     "output_type": "execute_result"
    }
   ],
   "source": [
    "gs_DS.fit(X_train, y_train)\n",
    "joblib.dump(gs_DS, 'ds_clf.pkl')"
   ]
  },
  {
   "cell_type": "code",
   "execution_count": null,
   "metadata": {},
   "outputs": [],
   "source": [
    "gs_Adb.fit(X_train,y_train)\n",
    "joblib.dump(gs_Adb, 'adb_clf.pkl')"
   ]
  },
  {
   "cell_type": "code",
   "execution_count": null,
   "metadata": {
    "collapsed": true
   },
   "outputs": [],
   "source": [
    "gnb_clf_est1=joblib.load('GNB_clf_est.pkl') \n",
    "log_clf_est1=joblib.load('logsitc_clf.pkl')\n",
    "SVM_clf_est1=joblib.load('SVM_clf.pkl')\n",
    "rf_clf_est1=joblib.load('rf_clf.pkl') \n",
    "DS_clf_est1=joblib.load('ds_clf.pkl')\n",
    "adb_clf_est1=joblib.load('adb_clf.pkl')"
   ]
  },
  {
   "cell_type": "code",
   "execution_count": null,
   "metadata": {
    "collapsed": true
   },
   "outputs": [],
   "source": [
    "def roc_curve_plot(model, X, y,label=None):\n",
    "    # make sure positive class prediction is in the second column of binary prediction\n",
    "    if label=='Neural Network':\n",
    "        y_score = model.predict_proba(X)[:,0]\n",
    "    else:\n",
    "        y_score = model.predict_proba(X)[:,1]\n",
    "    \n",
    "    # generate ROC curve data\n",
    "    roc = roc_curve(y, y_score)\n",
    "    \n",
    "    plt.plot(roc[0], roc[1], label=label)\n",
    "    plt.plot([0,1],[0,1], 'k--')\n",
    "    plt.axis([0,1,0,1])\n",
    "    plt.xlabel('FPR')\n",
    "    plt.ylabel('TPR')\n",
    "    \n",
    "    roc_score = auc(roc[0],roc[1])\n",
    "    print('AUC score of %s is %.2f.' % (label, roc_score))"
   ]
  },
  {
   "cell_type": "code",
   "execution_count": null,
   "metadata": {
    "collapsed": true
   },
   "outputs": [],
   "source": [
    "from sklearn.metrics import roc_curve, auc"
   ]
  },
  {
   "cell_type": "code",
   "execution_count": null,
   "metadata": {},
   "outputs": [],
   "source": [
    "# plot ROC curve for each model on training set\n",
    "roc_curve_plot(gnb_clf_est1, x_tr, y_train_b, label='Gaussian Naive Bayes')\n",
    "# roc_curve_plot(SVM_clf_est1, X_train, y_train, label='SVM')\n",
    "roc_curve_plot(log_clf_est1, X_train, y_train, label='Logistic Regression')\n",
    "roc_curve_plot(DS_clf_est1, X_train, y_train, label='Decision Tree')\n",
    "roc_curve_plot(rf_clf_est1,X_train, y_train, label='Random Forest')\n",
    "roc_curve_plot(adb_clf_est1, X_train, y_train, label='AdaBoost')\n",
    "plt.title('ROC Curves on Training Set')\n",
    "plt.legend(loc='lower right')        \n",
    "\n",
    "plt.show()"
   ]
  },
  {
   "cell_type": "code",
   "execution_count": null,
   "metadata": {},
   "outputs": [],
   "source": [
    "# plot ROC curve for each model on testing set\n",
    "roc_curve_plot(nb_clf_est1, x_te, y_test_b, label='Gaussian Naive Bayes')\n",
    "# roc_curve_plot(SVM_clf_est1, X_test, y_test, label='SVM')\n",
    "roc_curve_plot(log_clf_est1, X_test, y_test, label='Logistic Regression')\n",
    "roc_curve_plot(DS_clf_est1, X_test, y_test, label='Decision Tree')\n",
    "roc_curve_plot(rf_clf_est1,X_test, y_test, label='Random Forest')\n",
    "roc_curve_plot(adb_clf_est1, X_test, y_test, label='AdaBoost')\n",
    "plt.title('ROC Curves on Testing Set')\n",
    "plt.legend(loc='lower right')"
   ]
  },
  {
   "cell_type": "markdown",
   "metadata": {},
   "source": [
    "## Model Performnace Evaluation"
   ]
  }
 ],
 "metadata": {
  "kernelspec": {
   "display_name": "Python 3",
   "language": "python",
   "name": "python3"
  },
  "language_info": {
   "codemirror_mode": {
    "name": "ipython",
    "version": 3
   },
   "file_extension": ".py",
   "mimetype": "text/x-python",
   "name": "python",
   "nbconvert_exporter": "python",
   "pygments_lexer": "ipython3",
   "version": "3.6.3"
  }
 },
 "nbformat": 4,
 "nbformat_minor": 2
}
